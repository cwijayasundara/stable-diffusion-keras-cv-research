{
  "nbformat": 4,
  "nbformat_minor": 0,
  "metadata": {
    "colab": {
      "provenance": [],
      "private_outputs": true,
      "gpuType": "T4"
    },
    "kernelspec": {
      "name": "python3",
      "display_name": "Python 3"
    },
    "language_info": {
      "name": "python"
    },
    "accelerator": "GPU",
    "gpuClass": "standard"
  },
  "cells": [
    {
      "cell_type": "code",
      "execution_count": null,
      "metadata": {
        "id": "DK2fXVFdXiKs"
      },
      "outputs": [],
      "source": [
        "!pip install tensorflow keras_cv --upgrade --quiet"
      ]
    },
    {
      "cell_type": "code",
      "source": [
        "import time\n",
        "import keras_cv\n",
        "from tensorflow import keras\n",
        "import matplotlib.pyplot as plt"
      ],
      "metadata": {
        "id": "1RV0NXZXYeNv"
      },
      "execution_count": null,
      "outputs": []
    },
    {
      "cell_type": "code",
      "source": [
        "model = keras_cv.models.StableDiffusion(img_width=512, img_height=512)"
      ],
      "metadata": {
        "id": "RxOZPGKpYvLa"
      },
      "execution_count": null,
      "outputs": []
    },
    {
      "cell_type": "code",
      "source": [
        "images = model.text_to_image(\"picture of an astronaut riding a horse on the Moon\", batch_size=3)\n",
        "def plot_images(images):\n",
        "    plt.figure(figsize=(20, 20))\n",
        "    for i in range(len(images)):\n",
        "        ax = plt.subplot(1, len(images), i + 1)\n",
        "        plt.imshow(images[i])\n",
        "        plt.axis(\"off\")\n",
        "plot_images(images)"
      ],
      "metadata": {
        "id": "x2ttxu8gY13h"
      },
      "execution_count": null,
      "outputs": []
    },
    {
      "cell_type": "code",
      "source": [
        "keras.mixed_precision.set_global_policy(\"mixed_float16\")\n",
        "model = keras_cv.models.StableDiffusion(jit_compile=True)"
      ],
      "metadata": {
        "id": "jlG8Zhxne3Ig"
      },
      "execution_count": null,
      "outputs": []
    },
    {
      "cell_type": "code",
      "source": [
        "# Let's make sure to warm up the model\n",
        "images = model.text_to_image(\n",
        "    \"Albert Einstein floating in curved spacetime near a blackhole \"\n",
        "    \"golden color, high quality, highly detailed, elegant, sharp focus, \"\n",
        "    \"concept art, character concepts, digital painting, mystery, adventure\",\n",
        "    batch_size=3,\n",
        ")\n",
        "plot_images(images)"
      ],
      "metadata": {
        "id": "K5-fu601eyIc"
      },
      "execution_count": null,
      "outputs": []
    }
  ]
}